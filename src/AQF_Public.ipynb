{
  "cells": [
    {
      "cell_type": "markdown",
      "metadata": {
        "id": "s2FKrdlnrf01"
      },
      "source": [
        "# Import"
      ]
    },
    {
      "cell_type": "code",
      "execution_count": 1,
      "metadata": {
        "colab": {
          "base_uri": "https://localhost:8080/"
        },
        "id": "_QTseAeA9Iaw",
        "outputId": "4fcf7a82-400c-4bd8-c09d-4f8466e455fe"
      },
      "outputs": [
        {
          "output_type": "stream",
          "name": "stdout",
          "text": [
            "Mounted at /content/drive\n"
          ]
        }
      ],
      "source": [
        "from google.colab import drive\n",
        "drive.mount('/content/drive')"
      ]
    },
    {
      "cell_type": "code",
      "execution_count": 2,
      "metadata": {
        "id": "4X8OX6qoskIP",
        "colab": {
          "base_uri": "https://localhost:8080/"
        },
        "outputId": "56a2d9c6-c240-4b80-ff4c-26e0aab7173e"
      },
      "outputs": [
        {
          "output_type": "execute_result",
          "data": {
            "text/plain": [
              "<torch._C.Generator at 0x7ff000f485f0>"
            ]
          },
          "metadata": {},
          "execution_count": 2
        }
      ],
      "source": [
        "import matplotlib.pyplot as plt\n",
        "import torch\n",
        "import pandas as pd\n",
        "import torch.nn as nn\n",
        "import torch.nn.functional as F\n",
        "import torch.optim as optim\n",
        "from torch.utils.data import DataLoader, TensorDataset, random_split\n",
        "from torch.optim.lr_scheduler import ReduceLROnPlateau\n",
        "from datetime import datetime\n",
        "from pandas.core.frame import DataFrame\n",
        "import math\n",
        "import os\n",
        "torch.manual_seed(0)"
      ]
    },
    {
      "cell_type": "markdown",
      "metadata": {
        "id": "QqINDcZhyWEs"
      },
      "source": [
        "# Config"
      ]
    },
    {
      "cell_type": "code",
      "execution_count": 3,
      "metadata": {
        "id": "vHG0akRAbA0L"
      },
      "outputs": [],
      "source": [
        "class Config():\n",
        "  def __init__(self):\n",
        "    super().__init__()\n",
        "\n",
        "  # plit input, output config\n",
        "    self.split_step = 24\n",
        "    self.split_in_length = 24 * 7\n",
        "    self.split_out_length = 24\n",
        "    self.train_val_size = [250, 118]\n",
        "    self.src_num_locs = 11\n",
        "    self.tar_num_locs = 4\n",
        "    \n",
        "  # data config\n",
        "    self.use_features = ['PM2.5', 'temperature', 'humidity', 'hsin', 'hcos', 'day', 'month', 'season']\n",
        "    self.feature_in = len(self.use_features)\n",
        "    self.feature_out = 1\n",
        "\n",
        "  # cnn_fnn_hybird_layer config\n",
        "    # cnn config\n",
        "    self.in_size_cnn = self.feature_in\n",
        "    self.hidden_size_cnn = 300\n",
        "    self.num_layer_cnn = 2\n",
        "    # fnn config\n",
        "    self.in_feature_fnn = 1\n",
        "    self.out_feature_fnn = 100\n",
        "    #hybird_feature config\n",
        "    self.in_feature_linear1 = self.hidden_size_cnn + self.out_feature_fnn\n",
        "    self.out_feature_linear1 = 200\n",
        "    self.in_feature_linear2 = self.out_feature_linear1\n",
        "    self.out_feature_linear2 = 200\n",
        "\n",
        "  # attention_layer config\n",
        "    self.in_feature_linear3 = self.out_feature_linear2\n",
        "    self.out_feature_linear3 = 1\n",
        "\n",
        "  # prediction_layer config\n",
        "    self.in_feature_linear4 = self.out_feature_linear2\n",
        "    self.out_feature_linear4 = 24\n",
        "\n",
        "  # training config\n",
        "    self.batch_size = 64\n",
        "    self.n_epochs = 20\n",
        "    self.device = 'gpu'\n",
        "    self.loss_func = 'RMSE'\n",
        "  \n",
        "    self.mean = torch.tensor([0.55, 8.8, 9.05, 0, 0, 0, 0, 0])\n",
        "    self.std = torch.tensor([269.45, 37.11, 90.95, 1, 1, 31, 12, 4])\n",
        "config = Config()"
      ]
    },
    {
      "cell_type": "markdown",
      "metadata": {
        "id": "hVgdwMYpyZYc"
      },
      "source": [
        "# Preprocessing Data"
      ]
    },
    {
      "cell_type": "code",
      "execution_count": 4,
      "metadata": {
        "colab": {
          "base_uri": "https://localhost:8080/"
        },
        "id": "wJQ4BpmdEB6z",
        "outputId": "f6944e7a-54ba-42d3-b541-c7f1a9ad3ad6"
      },
      "outputs": [
        {
          "output_type": "stream",
          "name": "stdout",
          "text": [
            "dict_keys(['S0000328-Luong The Vinh', 'S0000367-To Hieu', 'S0000182-Truong THCS Trung Hoa', 'S0000339-Kim Ma'])\n",
            "dict_values([[105.78408, 20.99687], [105.77808, 20.96717], [105.798926, 21.014074], [105.824145, 21.031718]])\n",
            "\n",
            "dict_keys(['S0000328-Luong The Vinh', 'S0000367-To Hieu', 'S0000182-Truong THCS Trung Hoa', 'S0000339-Kim Ma'])\n",
            "dict_keys(['PM2.5', 'temperature', 'humidity', 'hour', 'hsin', 'hcos', 'day', 'month', 'season'])\n",
            "(9000,)\n",
            "\n",
            "dict_keys(['S0000370-Ba Trieu', 'S0000171-GENESIS School', 'S0000229-Quan Hoa', 'S0000264-FDS - Ton That Thuyet', 'S0000310-Hang Trong', 'S0000153-Truong Tieu hoc Tran Quoc Toan', 'S0000541-Tran Quang Khai', 'S0000210-Truong THCS Yen So', 'S0000137-Ngoc Khanh', 'S0000143-Thu vien - DHQG Ha Noi', 'S0000238-He thong lien cap Lomonoxop - Mam non'])\n",
            "dict_values([[105.848945, 21.011621], [105.801322, 21.050128], [105.805607, 21.039073], [105.785088, 21.026053], [105.8506845, 21.0287174], [105.850535, 21.026903], [105.859016, 21.025092], [105.679643, 21.044613], [105.8126417, 21.026052], [105.783422, 21.038251], [105.733799, 21.006896]])\n",
            "\n",
            "dict_keys(['S0000370-Ba Trieu', 'S0000171-GENESIS School', 'S0000229-Quan Hoa', 'S0000264-FDS - Ton That Thuyet', 'S0000310-Hang Trong', 'S0000153-Truong Tieu hoc Tran Quoc Toan', 'S0000541-Tran Quang Khai', 'S0000210-Truong THCS Yen So', 'S0000137-Ngoc Khanh', 'S0000143-Thu vien - DHQG Ha Noi', 'S0000238-He thong lien cap Lomonoxop - Mam non'])\n",
            "dict_keys(['PM2.5', 'temperature', 'humidity', 'hour', 'hsin', 'hcos', 'day', 'month', 'season'])\n",
            "(9000,)\n"
          ]
        }
      ],
      "source": [
        "class Reading_Raw_Data:\n",
        "  def __init__(self, path_src_locs: str, path_tar_locs: str, path_src_data: str, path_tar_data=''):\n",
        "    self.src_data = self.read_data(path_src_data)\n",
        "    self.src_locs = self.read_locs(path_src_locs, self.src_data.keys())\n",
        "\n",
        "    if path_tar_data != '': \n",
        "      self.tar_data = self.read_data(path_tar_data)\n",
        "      self.tar_locs = self.read_locs(path_tar_locs, self.tar_data.keys())\n",
        "    else:\n",
        "      self.tar_data = None\n",
        "      self.tar_locs = self.read_locs(path_tar_locs)\n",
        "\n",
        "  def get(self):\n",
        "    return self.src_data, self.src_locs, self.tar_data, self.tar_locs\n",
        "\n",
        "  def read_data(self, dir_path: str):\n",
        "    data = {}\n",
        "    for name in os.listdir(dir_path):\n",
        "        data_pd = pd.read_csv(dir_path + name)\n",
        "        limit = len(data_pd)\n",
        "\n",
        "        if len(data_pd['PM2.5'][data_pd['PM2.5'].isna()]) >= limit / 2: continue\n",
        "        if len(data_pd['temperature'][data_pd['temperature'].isna()]) >= limit / 2: continue\n",
        "        if len(data_pd['humidity'][data_pd['humidity'].isna()]) >= limit / 2: continue\n",
        "\n",
        "        hour, hsin, hcos, day, month, season, year = self.extractTimestamps(data_pd['timestamp'])\n",
        "        data.update({\n",
        "            name[0: -4]:\n",
        "            {\n",
        "              'PM2.5': data_pd['PM2.5'],\n",
        "              'temperature': data_pd['temperature'],\n",
        "              'humidity': data_pd['humidity'],\n",
        "              'hour': hour,\n",
        "              'hsin': hsin,\n",
        "              'hcos': hcos,\n",
        "              'day': day,\n",
        "              'month': month,\n",
        "              'season': season\n",
        "            }\n",
        "        })\n",
        "    return data\n",
        "\n",
        "  def read_locs(self, dir_path: str, use_locs=[]):\n",
        "    locs_pd = pd.read_csv(dir_path)\n",
        "    locs_dict = {}\n",
        "    longitude = []\n",
        "    latitude = []\n",
        "\n",
        "    for i in range(len(locs_pd)):\n",
        "      locs_dict.update({locs_pd['station'][i] : [locs_pd['longitude'][i], locs_pd['latitude'][i]]})\n",
        "\n",
        "    if not use_locs: use_locs = list(locs_pd['station'])\n",
        "\n",
        "    res = {}\n",
        "    for loc in use_locs:\n",
        "      res.update({loc : locs_dict[loc]})\n",
        "\n",
        "    return res\n",
        "\n",
        "  def extractDate(self, timestamp: DataFrame):\n",
        "    tmp = datetime.strptime(timestamp, '%d/%m/%Y %H:%M')\n",
        "    return tmp.hour, tmp.day, tmp.month, tmp.year\n",
        "\n",
        "  def extractTimestamps(self, timestamps: DataFrame):\n",
        "    hour, hsin, hcos, day, month, season, year = [], [], [], [], [], [], []\n",
        "    for timestamp in timestamps:\n",
        "      h, d, m, y = self.extractDate(timestamp)\n",
        "      hour.append(h)\n",
        "      hsin.append(math.sin(2*math.pi*h/24))\n",
        "      hcos.append(math.cos(2*math.pi*h/24))\n",
        "      day.append(d)\n",
        "      month.append(m)\n",
        "      season.append(m / 4)\n",
        "      year.append(y)\n",
        "    return hour, hsin, hcos, day, month, season, year\n",
        "  \n",
        "  def show(self, data: list):\n",
        "    plt.plot(data)\n",
        "    plt.show()\n",
        "\n",
        "raw_data = Reading_Raw_Data('/content/drive/Shareddrives/air-team/data_spm/Public/Train/location.csv',\n",
        "                            '/content/drive/Shareddrives/air-team/data_spm/Public/TestA/location.csv',\n",
        "                            '/content/drive/Shareddrives/air-team/data_spm/Public/Train/input/',\n",
        "                            '/content/drive/Shareddrives/air-team/data_spm/Public/Train/output/')\n",
        "\n",
        "print(raw_data.tar_locs.keys())\n",
        "print(raw_data.tar_locs.values())\n",
        "print()\n",
        "print(raw_data.tar_data.keys())\n",
        "print(raw_data.tar_data['S0000182-Truong THCS Trung Hoa'].keys())\n",
        "print(raw_data.tar_data['S0000182-Truong THCS Trung Hoa']['PM2.5'].shape)\n",
        "print()\n",
        "print(raw_data.src_locs.keys())\n",
        "print(raw_data.src_locs.values())\n",
        "print()\n",
        "print(raw_data.src_data.keys())\n",
        "print(raw_data.src_data['S0000137-Ngoc Khanh'].keys())\n",
        "print(raw_data.src_data['S0000137-Ngoc Khanh']['PM2.5'].shape)"
      ]
    },
    {
      "cell_type": "code",
      "execution_count": 5,
      "metadata": {
        "id": "wBiiV1u1HV_v"
      },
      "outputs": [],
      "source": [
        "class Solving_Missing_Data:\n",
        "  def __init__(self, data):\n",
        "    src_data, self.src_locs, tar_data, self.tar_locs = data.get()\n",
        "\n",
        "    self.src_data = self.fill_missing_data(src_data)\n",
        "    self.tar_data = None\n",
        "    if data.tar_data != None: \n",
        "      self.tar_data = self.fill_missing_data(tar_data)\n",
        "\n",
        "  def get(self):\n",
        "    return self.src_data, self.src_locs, self.tar_data, self.tar_locs\n",
        "\n",
        "  def fill_missing_data(self, data: dict):\n",
        "    # data: 9000, num_locs, num_feas\n",
        "    for loc in data.keys():\n",
        "      for feature in data[loc].keys():\n",
        "        if feature in ('PM2.5', 'temperature', 'humidity'):\n",
        "          data[loc][feature] =data[loc][feature].interpolate(option=\"spline\").bfill()\n",
        "    return data\n",
        "\n",
        "full_data = Solving_Missing_Data(raw_data)"
      ]
    },
    {
      "cell_type": "code",
      "execution_count": 6,
      "metadata": {
        "colab": {
          "base_uri": "https://localhost:8080/"
        },
        "id": "UQ2miSHjVDXD",
        "outputId": "25b2ef76-0540-4768-d2b6-aa70daf9708e"
      },
      "outputs": [
        {
          "output_type": "stream",
          "name": "stdout",
          "text": [
            "use features: ['PM2.5', 'temperature', 'humidity', 'hsin', 'hcos', 'day', 'month', 'season']\n",
            "distance: torch.Size([4, 11])\n",
            "src_data: torch.Size([9000, 11, 8])\n",
            "tar_data: torch.Size([9000, 4])\n"
          ]
        }
      ],
      "source": [
        "# Concatenate and normalize data\n",
        "class Merger_Norm_Data:\n",
        "  def __init__(self, config, data):\n",
        "    self.mean = config.mean\n",
        "    self.std = config.std\n",
        "    self.use_features = config.use_features\n",
        "\n",
        "    src_data, src_locs, tar_data, tar_locs = data.get()\n",
        "\n",
        "    src_locs = self.concatenate_locs(src_locs)\n",
        "    tar_locs = self.concatenate_locs(tar_locs)\n",
        "\n",
        "    self.distance = self.compute_distance(src_locs, tar_locs)\n",
        "    self.src_data = self.concatenate_features(src_data)\n",
        "    self.tar_data = None\n",
        "    if tar_data != None:\n",
        "      self.tar_data = self.concatenate_features(tar_data)[:, :, 0]\n",
        "\n",
        "  def get(self):\n",
        "    return self.src_data, self.tar_data, self.distance\n",
        "\n",
        "  def concatenate_features(self, data: dict):\n",
        "    concatenated_data = []\n",
        "    for loc in data.keys():\n",
        "      list_features = []\n",
        "      \n",
        "      for feature in self.use_features:\n",
        "        list_features.append(torch.tensor(data[loc][feature]))\n",
        "\n",
        "      concatenated_data.append(torch.stack(list_features, dim = 1))\n",
        "    concatenated_data = torch.stack(concatenated_data, dim=1)\n",
        "    return self.normalize(concatenated_data)\n",
        "\n",
        "  def concatenate_locs(self, locs: dict):\n",
        "    coords = []\n",
        "    for key in locs.keys():\n",
        "      coords.append(torch.tensor(locs[key]))\n",
        "    locs = torch.stack(coords, dim = 0)\n",
        "    return locs\n",
        "\n",
        "  def compute_distance(self, src_locs: torch.Tensor, tar_locs: torch.Tensor):\n",
        "    distance = []\n",
        "\n",
        "    for tar_loc in tar_locs:\n",
        "      tar_loc = tar_loc.view(1, -1)\n",
        "      sum = torch.sum((src_locs - tar_loc)**2, 1)\n",
        "      dist = torch.sqrt(sum)\n",
        "      normalized_dist = dist / torch.sum(dist)\n",
        "      distance.append(normalized_dist)\n",
        "\n",
        "    distance = torch.stack(distance, 0)\n",
        "    return distance\n",
        "\n",
        "  def normalize(self, data: torch.tensor):\n",
        "    return (data - self.mean) / self.std\n",
        "\n",
        "mergered_normalized_data = Merger_Norm_Data(config, full_data)\n",
        "\n",
        "print('use features:', config.use_features)\n",
        "\n",
        "print('distance:', mergered_normalized_data.distance.shape)\n",
        "print('src_data:', mergered_normalized_data.src_data.shape)\n",
        "print('tar_data:', mergered_normalized_data.tar_data.shape)"
      ]
    },
    {
      "cell_type": "code",
      "execution_count": 7,
      "metadata": {
        "id": "Chmm5EXTM4zp",
        "colab": {
          "base_uri": "https://localhost:8080/"
        },
        "outputId": "db2b1e50-637a-4d91-8858-11b509a33d93"
      },
      "outputs": [
        {
          "output_type": "stream",
          "name": "stdout",
          "text": [
            "use features: ['PM2.5', 'temperature', 'humidity', 'hsin', 'hcos', 'day', 'month', 'season']\n",
            "distance: torch.Size([4, 11])\n",
            "train_loader: 4\n",
            "val_loader: 2\n"
          ]
        }
      ],
      "source": [
        "class Spliting_Data:\n",
        "  def __init__(self, config, data):\n",
        "    self.split_step = config.split_step\n",
        "    self.split_in_length = config.split_in_length\n",
        "    self.split_out_length = config.split_out_length\n",
        "    self.batch_size = config.batch_size\n",
        "    self.train_val_size = config.train_val_size\n",
        "\n",
        "    src_data, tar_data, self.distance = data.get()\n",
        "    src_data = self.split_src_data(src_data)\n",
        "    tar_data = self.split_tar_data(tar_data)\n",
        "\n",
        "    self.train_set, self.val_set = self.split_train_val(src_data, tar_data)\n",
        "    self.id_train_loader, self.id_val_loader = self.id_split_batch(self.train_set, self.val_set)\n",
        "\n",
        "  def split_src_data(self, src_data: torch.tensor):\n",
        "    res = []\n",
        "\n",
        "    for i in range(0, len(src_data), self.split_step):\n",
        "      end_id = i + self.split_in_length\n",
        "      if end_id + self.split_out_length > len(src_data): break\n",
        "      res.append(src_data[i:end_id].transpose(0, 1).unsqueeze(0))\n",
        "\n",
        "    return torch.cat(res)\n",
        "\n",
        "  def split_tar_data(self, tar_data: torch.tensor):\n",
        "    res = []\n",
        "\n",
        "    for i in range(self.split_in_length, len(tar_data), self.split_step):\n",
        "      end_id = i + self.split_out_length\n",
        "      if end_id > len(tar_data): break\n",
        "      res.append(tar_data[i:end_id].transpose(0, 1).unsqueeze(0))\n",
        "\n",
        "    return torch.cat(res)\n",
        "  \n",
        "  def split_train_val(self, src_data: torch.Tensor, tar_data: torch.Tensor):\n",
        "    data_set = TensorDataset(src_data, tar_data)\n",
        "    train_set, val_set = random_split(data_set, self.train_val_size)\n",
        "\n",
        "    return train_set, val_set\n",
        "\n",
        "  def id_split_batch(self, train_set: TensorDataset, val_set: TensorDataset):\n",
        "    id_train_set = torch.arange(0, len(train_set))\n",
        "    id_val_set = torch.arange(0, len(val_set))\n",
        "\n",
        "    id_train_loader = DataLoader(id_train_set, batch_size=self.batch_size, shuffle=True)\n",
        "    id_val_loader = DataLoader(id_val_set, batch_size=self.batch_size, shuffle=True)\n",
        "\n",
        "    return id_train_loader, id_val_loader\n",
        "\n",
        "  def get_in_out(self, id: torch.Tensor, tar_loc: int, name: str):\n",
        "    if name == 'train': data_set = self.train_set\n",
        "    else: data_set = self.val_set\n",
        "    \n",
        "    static_data = self.distance[tar_loc]\n",
        "    temporal_data, output = data_set[list(id)]\n",
        "    \n",
        "    input = (temporal_data.float(), static_data.float())\n",
        "    return input, output[:, tar_loc].float()\n",
        "\n",
        "splitted_data = Spliting_Data(config, mergered_normalized_data)\n",
        "\n",
        "print('use features:', config.use_features)\n",
        "print('distance:', splitted_data.distance.shape)\n",
        "print('train_loader:', len(splitted_data.id_train_loader))  \n",
        "print('val_loader:', len(splitted_data.id_val_loader))"
      ]
    },
    {
      "cell_type": "markdown",
      "metadata": {
        "id": "VV8tGYBKykq7"
      },
      "source": [
        "# Layer"
      ]
    },
    {
      "cell_type": "code",
      "execution_count": 8,
      "metadata": {
        "id": "umj2fKQ_yIqP"
      },
      "outputs": [],
      "source": [
        "class FNN_RNN_Hybrid_Layers(nn.Module):\n",
        "  '''\n",
        "    Input:  temporal_data: batch_size, 11, n_sequences, n_features\n",
        "            static_data: 11\n",
        "    Output: batch_size, 11, 400\n",
        "  '''\n",
        "  def __init__(self, config):\n",
        "    super().__init__()\n",
        "    \n",
        "    self.RNN = nn.LSTM(input_size=config.in_size_cnn, \n",
        "                       hidden_size=config.hidden_size_cnn,\n",
        "                       num_layers=config.num_layer_cnn,\n",
        "                       batch_first=True) \n",
        "    self.FNN = nn.Linear(in_features=config.in_feature_fnn, \n",
        "                         out_features=config.out_feature_fnn, \n",
        "                         bias=True)\n",
        "    self.hybird_feature = nn.Sequential(\n",
        "          nn.Linear(config.in_feature_linear1, config.out_feature_linear1, bias=True),\n",
        "          nn.ReLU(),\n",
        "          nn.Linear(config.in_feature_linear2, config.out_feature_linear2, bias=True),\n",
        "          nn.ReLU()\n",
        "    )\n",
        "\n",
        "  def forward(self, input):\n",
        "    temporal_data, static_data = input\n",
        "    batch_size, n_locs, n_sequences, n_features = temporal_data.shape\n",
        "    \n",
        "    temporal_data =  temporal_data.view(-1, n_sequences, n_features)\n",
        "    _, (h_state, c_state) = self.RNN(temporal_data)\n",
        "    # lấy 1 output cuối\n",
        "    temporal_output = h_state[-1].view(batch_size, n_locs, -1)\n",
        "\n",
        "    static_data = static_data[None, :, None]\n",
        "    static_output = F.relu(self.FNN(static_data))\n",
        "    static_output = static_output.repeat_interleave(batch_size, dim = 0)\n",
        "\n",
        "    output = self.hybird_feature(torch.cat((temporal_output, static_output), dim=2))\n",
        "    return output"
      ]
    },
    {
      "cell_type": "code",
      "execution_count": 9,
      "metadata": {
        "id": "zuJ-vN1ekBXv"
      },
      "outputs": [],
      "source": [
        "class Attention_Layer(nn.Module):\n",
        "    '''\n",
        "      Input: (batch_size, 11, 400)\n",
        "      Output: (batch_size, 400) \n",
        "    '''\n",
        "    def __init__(self, config):\n",
        "      super().__init__()\n",
        "      self.attention = nn.Linear(config.in_feature_linear3, config.out_feature_linear3, bias=True)\n",
        "\n",
        "    def forward(self, input):\n",
        "      value = self.attention(input)\n",
        "      score = F.softmax(value, 1)\n",
        "      output = torch.sum(input * score, 1)\n",
        "      return output"
      ]
    },
    {
      "cell_type": "code",
      "source": [
        "class Prediction_Layer(nn.Module):\n",
        "  '''\n",
        "  Input: (batch_size, 400)\n",
        "  Output: (batch_size, 24) \n",
        "  '''\n",
        "  def __init__(self, config):\n",
        "    super().__init__()\n",
        "    self.prediction = nn.Linear(config.in_feature_linear4, config.out_feature_linear4, bias=True)\n",
        "  def forward(self, input):\n",
        "    output = self.prediction(input)\n",
        "    return output"
      ],
      "metadata": {
        "id": "peAHqSZh3MXU"
      },
      "execution_count": 10,
      "outputs": []
    },
    {
      "cell_type": "markdown",
      "metadata": {
        "id": "QRvydv__q1Y6"
      },
      "source": [
        "# Model"
      ]
    },
    {
      "cell_type": "code",
      "execution_count": 11,
      "metadata": {
        "id": "7nvG6_D9tAjB"
      },
      "outputs": [],
      "source": [
        "class AQF_Model(nn.Module):\n",
        "  def __init__(self, config):\n",
        "    super().__init__()\n",
        "\n",
        "    self.mean = config.mean\n",
        "    self.std = config.std\n",
        "    self.layer1 = FNN_RNN_Hybrid_Layers(config)\n",
        "    self.layer2 = Attention_Layer(config)\n",
        "    self.layer3 = Prediction_Layer(config)\n",
        "  \n",
        "  def forward(self, input):\n",
        "    src_features = self.layer1(input)\n",
        "    # print(src_features.shape, 'layer 1')\n",
        "    tar_features = self.layer2(src_features)\n",
        "    # print(tar_features.shape, 'layer2')\n",
        "    output = self.layer3(tar_features)\n",
        "    # print(output.shape, 'layer3')\n",
        "    return output\n",
        "  \n",
        "  def predict(self, input):\n",
        "    output = self.forward(input)\n",
        "    output = output * self.std[0] + self.mean[0]\n",
        "    return output"
      ]
    },
    {
      "cell_type": "markdown",
      "metadata": {
        "id": "gQOkZi9kZSxK"
      },
      "source": [
        "# Loss function"
      ]
    },
    {
      "cell_type": "code",
      "execution_count": 12,
      "metadata": {
        "id": "7KBuIWMNZVMK"
      },
      "outputs": [],
      "source": [
        "class MAPELoss(nn.Module):\n",
        "  def __init__(self):\n",
        "    super().__init__()\n",
        "  def forward(self, output, predict):\n",
        "    mape = (output - predict) / output\n",
        "    mape = torch.sum(mape.abs(), 1) / output.shape[1]\n",
        "    mape = torch.sum(mape) / output.shape[0]\n",
        "    return mape\n",
        "\n",
        "class RMSELoss(nn.Module):\n",
        "  def __init__(self, config):\n",
        "    super().__init__()\n",
        "    self.std = config.std\n",
        "    self.mean = config.mean\n",
        "  def forward(self, output, predict):\n",
        "    output = output * self.std[0] + self.mean[0]\n",
        "    predict = predict * self.std[0] + self.mean[0]\n",
        "\n",
        "    rmse = (output - predict) ** 2\n",
        "    rmse = torch.sqrt(torch.sum(rmse, 1) / output.shape[1])\n",
        "    rmse = torch.sum(rmse) / output.shape[0]\n",
        "    return rmse\n",
        "\n",
        "class MDAPELoss(nn.Module):\n",
        "  def __init__(self):\n",
        "    super().__init__()\n",
        "  def forward(self, output, predict):\n",
        "    mdape = (output - predict) / output\n",
        "    mdape = torch.median(mdape.abs(), 1).values\n",
        "    mdape = torch.sum(mdape) / output.shape[0]\n",
        "    return mdape"
      ]
    },
    {
      "cell_type": "markdown",
      "metadata": {
        "id": "XL0kxQRsywzd"
      },
      "source": [
        "# Train"
      ]
    },
    {
      "cell_type": "code",
      "execution_count": 13,
      "metadata": {
        "id": "MQ2JX35SIDl1"
      },
      "outputs": [],
      "source": [
        "def show_result(train_error, val_error, loss_func):\n",
        "  plt.plot(train_error, label='train_loss')\n",
        "  plt.plot(val_error, label='val_loss')\n",
        "  plt.xlabel('Epoch')\n",
        "  plt.ylabel(loss_func)\n",
        "  plt.legend()\n",
        "  plt.show()"
      ]
    },
    {
      "cell_type": "code",
      "execution_count": 14,
      "metadata": {
        "id": "kXid6h7W2dcD"
      },
      "outputs": [],
      "source": [
        "def training_loop(model, data, config):\n",
        "  print('training')\n",
        "  optimizer = optim.Adam(model.parameters(), lr=1e-3)\n",
        "  scheduler = ReduceLROnPlateau(optimizer, 'min', patience = 3)\n",
        "  \n",
        "  if config.loss_func == 'RMSE': loss_fn = RMSELoss(config)\n",
        "  elif config.loss_func == 'MDAPE': loss_fn = MDAPELoss()\n",
        "  elif config.loss_func == 'MAPE': loss_fn = MAPELoss()\n",
        "  else: loss_fn = nn.MSELoss()\n",
        "  \n",
        "  id_train_loader = data.id_train_loader\n",
        "  id_val_loader = data.id_val_loader \n",
        "\n",
        "  if config.device == 'gpu': model = model.to('cuda')\n",
        "  \n",
        "  train_error = []\n",
        "  val_error = []\n",
        "  \n",
        "  for epoch in range(0, config.n_epochs):\n",
        "    train_loss = 0.0\n",
        "    \n",
        "    for id in id_train_loader:\n",
        "      sum = 0.0\n",
        "    \n",
        "      for tar_loc in range(config.tar_num_locs): \n",
        "        input, output = data.get_in_out(id, tar_loc, 'train')\n",
        "\n",
        "        if config.device == 'gpu':\n",
        "          input = [input[0].to('cuda'), input[1].to('cuda')]\n",
        "          output = output.to('cuda')\n",
        "\n",
        "        predict = model(input)\n",
        "        loss = loss_fn(output, predict)\n",
        "        optimizer.zero_grad()\n",
        "        loss.backward()\n",
        "        optimizer.step()\n",
        "        sum += loss.item()\n",
        "\n",
        "      train_loss += sum / (config.tar_num_locs)\n",
        "    train_loss /= len(id_train_loader)\n",
        "\n",
        "    val_loss = 0.0\n",
        "    with torch.no_grad():\n",
        "      for id in id_val_loader:\n",
        "\n",
        "        tar_loc =  config.tar_num_locs - 1\n",
        "        input, output = data.get_in_out(id, tar_loc, 'val')\n",
        "          \n",
        "        if config.device == 'gpu':\n",
        "          input = [input[0].to('cuda'), input[1].to('cuda')]\n",
        "          output = output.to('cuda')\n",
        "\n",
        "        predict = model(input)\n",
        "        loss = loss_fn(output, predict)\n",
        "        val_loss += loss.item()\n",
        "\n",
        "    val_loss /= len(id_val_loader)\n",
        "    scheduler.step(val_loss)\n",
        "    \n",
        "    print('Epoch {}, Training loss {}, Val Loss {}'.format(epoch, train_loss, val_loss))\n",
        "    train_error.append(train_loss)\n",
        "    val_error.append(val_loss)\n",
        "  show_result(train_error, val_error, config.loss_func)"
      ]
    },
    {
      "cell_type": "code",
      "source": [
        "model = AQF_Model(config)\n",
        "training_loop(model, splitted_data, config)"
      ],
      "metadata": {
        "id": "Y5nOs-KW0hel",
        "colab": {
          "base_uri": "https://localhost:8080/",
          "height": 643
        },
        "outputId": "d52712a2-cb88-4c2c-c946-fd68169d1bcb"
      },
      "execution_count": 15,
      "outputs": [
        {
          "output_type": "stream",
          "name": "stdout",
          "text": [
            "training\n",
            "Epoch 0, Training loss 38.9213764667511, Val Loss 31.582780838012695\n",
            "Epoch 1, Training loss 34.752554178237915, Val Loss 29.527952194213867\n",
            "Epoch 2, Training loss 28.68701171875, Val Loss 24.257481575012207\n",
            "Epoch 3, Training loss 26.399375319480896, Val Loss 23.98935031890869\n",
            "Epoch 4, Training loss 24.828898668289185, Val Loss 22.78689479827881\n",
            "Epoch 5, Training loss 24.396942496299744, Val Loss 22.832802772521973\n",
            "Epoch 6, Training loss 24.01692759990692, Val Loss 23.12187671661377\n",
            "Epoch 7, Training loss 23.97322928905487, Val Loss 22.74247455596924\n",
            "Epoch 8, Training loss 23.951140642166138, Val Loss 23.13138484954834\n",
            "Epoch 9, Training loss 23.809712529182434, Val Loss 22.772067070007324\n",
            "Epoch 10, Training loss 23.742804050445557, Val Loss 22.568123817443848\n",
            "Epoch 11, Training loss 23.73632311820984, Val Loss 22.480810165405273\n",
            "Epoch 12, Training loss 24.877915143966675, Val Loss 23.624217987060547\n",
            "Epoch 13, Training loss 26.163864016532898, Val Loss 23.600616455078125\n",
            "Epoch 14, Training loss 24.84178614616394, Val Loss 22.6683406829834\n",
            "Epoch 15, Training loss 23.70848274230957, Val Loss 22.513906478881836\n",
            "Epoch 16, Training loss 23.003303050994873, Val Loss 21.928162574768066\n",
            "Epoch 17, Training loss 23.160480856895447, Val Loss 22.773725509643555\n",
            "Epoch 18, Training loss 23.28395390510559, Val Loss 22.5245418548584\n",
            "Epoch 19, Training loss 23.00516104698181, Val Loss 21.97846508026123\n"
          ]
        },
        {
          "output_type": "display_data",
          "data": {
            "text/plain": [
              "<Figure size 432x288 with 1 Axes>"
            ],
            "image/png": "[encoded data removed]"
          },
          "metadata": {
            "needs_background": "light"
          }
        }
      ]
    },
    {
      "cell_type": "markdown",
      "metadata": {
        "id": "_KpQds31qiJy"
      },
      "source": [
        "# Predict"
      ]
    },
    {
      "cell_type": "code",
      "execution_count": null,
      "metadata": {
        "id": "xLnhEj3OTkO_"
      },
      "outputs": [],
      "source": [
        "save_folder = '/content/prediction'\n",
        "os.mkdir(save_folder)\n",
        "\n",
        "dir_path = '/content/drive/Shareddrives/air-team/data_spm/TestA/input/'\n",
        "for dir_idx in range(0, 100):\n",
        "  print('folder {} :'.format(dir_idx))\n",
        "  raw_data = Reading_Raw_Data('/content/drive/Shareddrives/air-team/data_spm/Train/location.csv',\n",
        "                            '/content/drive/Shareddrives/air-team/data_spm/TestA/location.csv',\n",
        "                            dir_path + '/' + str(dir_idx + 1) + '/') \n",
        "  full_data = Solving_Missing_Data(raw_data)\n",
        "  mergered_normalized_data = Merger_Norm_Data(config, full_data)\n",
        "  \n",
        "  src_data = mergered_normalized_data.src_data\n",
        "  src_data = src_data.transpose(0, 1).unsqueeze(0)\n",
        "  distance = mergered_normalized_data.distance\n",
        "\n",
        "  if config.device == 'gpu':\n",
        "    src_data = src_data.to('cuda')\n",
        "    distance = distance.to('cuda')\n",
        "\n",
        "  cur_folder = save_folder + '/' + str(dir_idx + 1)\n",
        "  os.mkdir(cur_folder)\n",
        "  for tar_loc in range(config.tar_num_locs):\n",
        "    input = (src_data.float(), distance[tar_loc].float())\n",
        "    output = model.predict(input).view(-1)\n",
        "    df = pd.DataFrame.from_dict({\"PM2.5\": output.tolist()})\n",
        "    df.to_csv(os.path.join(cur_folder + '/', f\"res_{dir_idx + 1}_{tar_loc + 1}.csv\"), index=False)"
      ]
    },
    {
      "cell_type": "code",
      "execution_count": null,
      "metadata": {
        "id": "nFPrcLzFPdDw"
      },
      "outputs": [],
      "source": [
        "!zip -r /content/prediction.zip /content/prediction"
      ]
    },
    {
      "cell_type": "code",
      "execution_count": null,
      "metadata": {
        "id": "HooFkvBkhMGT"
      },
      "outputs": [],
      "source": [
        "!rm -rf prediction"
      ]
    }
  ],
  "metadata": {
    "colab": {
      "collapsed_sections": [
        "s2FKrdlnrf01",
        "QqINDcZhyWEs",
        "hVgdwMYpyZYc",
        "QRvydv__q1Y6",
        "gQOkZi9kZSxK",
        "XL0kxQRsywzd"
      ],
      "provenance": [],
      "toc_visible": true
    },
    "gpuClass": "standard",
    "kernelspec": {
      "display_name": "Python 3",
      "name": "python3"
    },
    "language_info": {
      "name": "python"
    },
    "accelerator": "GPU"
  },
  "nbformat": 4,
  "nbformat_minor": 0
}